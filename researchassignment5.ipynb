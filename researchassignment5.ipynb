{
 "cells": [
  {
   "cell_type": "markdown",
   "metadata": {},
   "source": [
    "# Research Assignment 5 \n",
    "\n",
    "\n",
    "Alisha Jones \n",
    "\n",
    "Skin Color Discrimination\n",
    "\n",
    "April 15, 2020"
   ]
  },
  {
   "cell_type": "markdown",
   "metadata": {},
   "source": [
    "### 1. Develop hypotheses that approach a nominal variable in your dataset as a dependent variable (DV). [1 pt]\n",
    "\n",
    "* If your nominal variable has more than two categorical variables, such as political party affiliation categories of -- Democrat, Democratic Socialist, Green, Independent, or Republican -- develop hypotheses that treat being or not being in at least one of the categories as a dichotomous binomial dependent variable (DV).\n",
    "\n",
    "* Even if you are not interested in any categorical outcomes for your research project, still develop an hypothesis for at least one nominal variable in your data as a dependent variable. Thinking about potential influences on that variable could help you see if there are intervening relationships or omitted variable biases in your primary outcome of interest.\n",
    "\n",
    "Do the following when you write your hypothesis:\n",
    "\n",
    "    A. Write a separate hypothesis for each dependent variable (DV) you want to analyze.\n",
    "    \n",
    "    B. For each dependent variable (DV) state the predicted direction of association between your dependent variable DV and independent variables (IVs) in your model. You can predict no relationship if you do not expect a relationship.\n",
    "    \n",
    "    C. Write a couple sentences about the theoretical reasons (prior knowledge / research) for each of your predictions"
   ]
  },
  {
   "cell_type": "code",
   "execution_count": null,
   "metadata": {},
   "outputs": [],
   "source": [
    "A. \n",
    "I hypothesize that my dependednt variable skin color discrimination will be negatively impacted by my independent variables. \n",
    "\n",
    "B. \n",
    "I hypothesize that there will be no relationship between education and skin color discrimination. I hypothesized that women will be more negatively influeced by discrimination than men will. I also think that race will have more of a negative influence on skin color discrimination for African American and Afro-Caribbean's.\n",
    "\n",
    "C. \n",
    "I hypothesized that education and skin color dicrimination because I haven't seen any literature that points to education level having an impact on individuals being discriminated against due to skin color.I hypothesized that skin color discrimination will influence women more than men because there is so much literature that points to the ways that Black women tend to be influenced by colorism and skin color discrimination tha Black men. I think that African American's and Afro-Caribbean's will have be more impacted by skin coloe discrimination than other respondents becasuse once again most of the literature points to the prevalence of colorism amongst Black Americans and Caribbean Blacks.  "
   ]
  },
  {
   "cell_type": "code",
   "execution_count": 11,
   "metadata": {},
   "outputs": [
    {
     "name": "stdout",
     "output_type": "stream",
     "text": [
      "\n",
      "\n",
      "\n",
      "\n",
      "(Collaborative Psychiatric Epidemiology Surveys (CPES), 2001-2003 [United States])\n"
     ]
    }
   ],
   "source": [
    "clear \n",
    "set more off \n",
    "capture log close using ra5log.log \n",
    "use G10A SEX HHINC ED4CAT AGE RANCEST using \"20240-0003-Data.dta\", clear"
   ]
  },
  {
   "cell_type": "markdown",
   "metadata": {},
   "source": [
    "### 2. Test your hypotheses [3 pts]\n",
    "\n",
    "    A. Create a frequency table for your dependent variable (DV).\n",
    "\n",
    "    B. Estimate an OLS model regressing your dichotomous dependent variable (DV) on your hypothesized independent variables (IVs) and store the results.\n",
    "    \n",
    "    C. Estimate an MLE logistic model regressing your dichotomous dependent variable (DV) on your hypothesized independent variables (IVs) and store the results.\n",
    "    \n",
    "    D. Use esttab to output the coefficients for your OLS and MLE logistic models with html formatting within your Jupyter Notebook.\n",
    "    \n",
    "    E. Use esttab to reoutput your coefficients as odd ratios."
   ]
  },
  {
   "cell_type": "code",
   "execution_count": 12,
   "metadata": {},
   "outputs": [
    {
     "name": "stdout",
     "output_type": "stream",
     "text": [
      "\n",
      "\n",
      "(Black: 6082 changes made)\n",
      "\n",
      "\n",
      "      Black |      Freq.     Percent        Cum.\n",
      "------------+-----------------------------------\n",
      "          0 |      1,074       17.66       17.66\n",
      "          1 |      5,008       82.34      100.00\n",
      "------------+-----------------------------------\n",
      "      Total |      6,082      100.00\n",
      "\n",
      "(988 missing values generated)\n",
      "\n",
      "(skindisc: 4673 changes made)\n"
     ]
    }
   ],
   "source": [
    "** Recoding race \n",
    "gen Black = RANCEST\n",
    "recode Black 8=0 9=1 10=1 11=0\n",
    "tab Black \n",
    "\n",
    "** Recoding DV into a dichotomous variable \n",
    "gen skindisc = G10A \n",
    "recode skindisc 1=1 2=1 3=1 4=0 5=0"
   ]
  },
  {
   "cell_type": "code",
   "execution_count": 15,
   "metadata": {},
   "outputs": [
    {
     "name": "stdout",
     "output_type": "stream",
     "text": [
      "\n",
      "   skindisc |      Freq.     Percent        Cum.\n",
      "------------+-----------------------------------\n",
      "          0 |      2,409       47.29       47.29\n",
      "          1 |      2,685       52.71      100.00\n",
      "------------+-----------------------------------\n",
      "      Total |      5,094      100.00\n"
     ]
    }
   ],
   "source": [
    "** A.\n",
    "tab skindisc"
   ]
  },
  {
   "cell_type": "code",
   "execution_count": 6,
   "metadata": {},
   "outputs": [],
   "source": [
    "** B. \n",
    "qui eststo: reg skindisc SEX Black ED4CAT, robust"
   ]
  },
  {
   "cell_type": "code",
   "execution_count": 17,
   "metadata": {},
   "outputs": [],
   "source": [
    "** C. \n",
    "qui eststo: logit skindisc SEX Black ED4CAT, robust"
   ]
  },
  {
   "cell_type": "code",
   "execution_count": 8,
   "metadata": {},
   "outputs": [
    {
     "data": {
      "text/html": [
       "\n",
       "<table border=\"0\" width=\"*\">\n",
       "<tr><td colspan=5><hr></td></tr>\n",
       "<tr><td>            </td><td>         (1)</td><td>   </td><td>         (2)</td><td>   </td></tr>\n",
       "<tr><td>            </td><td>         OLS</td><td>   </td><td>MLE logistic </td><td>   </td></tr>\n",
       "<tr><td colspan=5><hr></td></tr>\n",
       "<tr><td>main        </td><td>            </td><td>   </td><td>            </td><td>   </td></tr>\n",
       "<tr><td>SEX         </td><td>       -0.07</td><td>***</td><td>       -0.28</td><td>***</td></tr>\n",
       "<tr><td>            </td><td>      (0.01)</td><td>   </td><td>      (0.06)</td><td>   </td></tr>\n",
       "<tr><td>Black       </td><td>        0.01</td><td>   </td><td>        0.06</td><td>   </td></tr>\n",
       "<tr><td>            </td><td>      (0.04)</td><td>   </td><td>      (0.15)</td><td>   </td></tr>\n",
       "<tr><td>ED4CAT      </td><td>       -0.01</td><td>   </td><td>       -0.04</td><td>   </td></tr>\n",
       "<tr><td>            </td><td>      (0.01)</td><td>   </td><td>      (0.03)</td><td>   </td></tr>\n",
       "<tr><td colspan=5><hr></td></tr>\n",
       "<tr><td><i>N</i>    </td><td>        5094</td><td>   </td><td>        5094</td><td>   </td></tr>\n",
       "<tr><td colspan=5><hr></td></tr>\n",
       "<tr><td colspan=5>\n",
       "^ p<.1, * p<.05, ** p<.01, *** p<.001\n",
       "</td></tr>\n",
       "</table>\n",
       "\n"
      ],
      "text/plain": [
       "This front-end or document format cannot display HTML"
      ]
     },
     "metadata": {},
     "output_type": "display_data"
    }
   ],
   "source": [
    "%html\n",
    "\n",
    "esttab ///\n",
    ", cells(b(star fmt(2)) se(fmt(2) par)) stardetach  ///\n",
    "legend starlevels(^ .1 * .05 ** .01 *** .001) html ///\n",
    "mlabels(\"OLS\" \"MLE logistic \") ///\n",
    "collabels(none) keep(SEX Black ED4CAT)"
   ]
  },
  {
   "cell_type": "code",
   "execution_count": 9,
   "metadata": {},
   "outputs": [
    {
     "data": {
      "text/html": [
       "\n",
       "<table border=\"0\" width=\"*\">\n",
       "<tr><td colspan=5><hr></td></tr>\n",
       "<tr><td>            </td><td>         (1)</td><td>   </td><td>         (2)</td><td>   </td></tr>\n",
       "<tr><td>            </td><td>         OLS</td><td>   </td><td>MLE logistic</td><td>   </td></tr>\n",
       "<tr><td colspan=5><hr></td></tr>\n",
       "<tr><td>main        </td><td>            </td><td>   </td><td>            </td><td>   </td></tr>\n",
       "<tr><td>SEX         </td><td>        0.93</td><td>***</td><td>        0.75</td><td>***</td></tr>\n",
       "<tr><td>            </td><td>      (0.01)</td><td>   </td><td>      (0.04)</td><td>   </td></tr>\n",
       "<tr><td>Black       </td><td>        1.01</td><td>   </td><td>        1.06</td><td>   </td></tr>\n",
       "<tr><td>            </td><td>      (0.04)</td><td>   </td><td>      (0.16)</td><td>   </td></tr>\n",
       "<tr><td>ED4CAT      </td><td>        0.99</td><td>   </td><td>        0.96</td><td>   </td></tr>\n",
       "<tr><td>            </td><td>      (0.01)</td><td>   </td><td>      (0.03)</td><td>   </td></tr>\n",
       "<tr><td colspan=5><hr></td></tr>\n",
       "<tr><td><i>N</i>    </td><td>        5094</td><td>   </td><td>        5094</td><td>   </td></tr>\n",
       "<tr><td colspan=5><hr></td></tr>\n",
       "<tr><td colspan=5>\n",
       "Exponentiated coefficients\n",
       "<br />^ p<.1, * p<.05, ** p<.01, *** p<.001\n",
       "</td></tr>\n",
       "</table>\n",
       "\n"
      ],
      "text/plain": [
       "This front-end or document format cannot display HTML"
      ]
     },
     "metadata": {},
     "output_type": "display_data"
    }
   ],
   "source": [
    "%html\n",
    "\n",
    "esttab ///\n",
    ", cells(b(star fmt(2)) se(fmt(2) par)) stardetach  ///\n",
    "legend starlevels(^ .1 * .05 ** .01 *** .001) html ///\n",
    "mlabels(\"OLS\" \"MLE logistic\") ///\n",
    "collabels(none) keep(SEX Black ED4CAT) eform"
   ]
  },
  {
   "cell_type": "markdown",
   "metadata": {},
   "source": [
    "### 3. Interpret your results [1 pt]\n",
    "\n",
    "Write a couple sentences answering each of the following questions:\n",
    "\n",
    "    A. How would you interpret the relationship between your dependent variable(s) (DVs) and independent variables (IVs) based on the odds ratios for you MLE logistic model?\n",
    "\n",
    "    B. Do the overall estimates support or contradict your hypotheses? Why?\n",
    "    \n",
    "    C. Is there anything suprising in your model estimates? Why?\n",
    "    \n",
    "    D. How do the OLS coefficients and their standard errors compare to the MLE estimates? Are the coefficients and standard errors larger or smaller?"
   ]
  },
  {
   "cell_type": "code",
   "execution_count": null,
   "metadata": {},
   "outputs": [],
   "source": [
    "A. \n",
    "The relationship between my dependent variable skin color discrimination for the odds ratios on for the logistic model is only significant for sex. It seems that in this model skin color discrimination was worse for men than it was for women.\n",
    "\n",
    "B. \n",
    "All of my overall estimates do not support my hypotheses. Women reported more skin color discrimination than men. My hypothesis that African American and Caribbean Blacks would be more influenced by skin color discrimination was not supported. I was correct when I hypothesized that education would probably not be a relationship between education and skin color discriminaton. \n",
    "\n",
    "C. \n",
    "I think that it is surprising that race or being black was not statistically significant. I think that it has something to do with the way that I recoded the race variable, maybe I shouldn't have recoded it at all.\n",
    "\n",
    "D. \n",
    "All of my OLS coeffficients are larger than my MLE coeffficients except for race. All of my MLE standard errors are larger than my OLS standard errors. "
   ]
  }
 ],
 "metadata": {
  "kernelspec": {
   "display_name": "Stata",
   "language": "stata",
   "name": "stata"
  },
  "language_info": {
   "codemirror_mode": "stata",
   "file_extension": ".do",
   "mimetype": "text/x-stata",
   "name": "stata",
   "version": "15.1"
  }
 },
 "nbformat": 4,
 "nbformat_minor": 4
}
