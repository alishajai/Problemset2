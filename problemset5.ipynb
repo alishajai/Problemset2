{
 "cells": [
  {
   "cell_type": "markdown",
   "metadata": {},
   "source": [
    "# Problem Set 5 \n",
    "\n",
    "Alisha Jones \n",
    "\n",
    "Skin Color Discrimination\n",
    "\n",
    "April 22, 2020"
   ]
  },
  {
   "cell_type": "markdown",
   "metadata": {},
   "source": [
    "### 1. Develop hypotheses involving a muli-item scale as either a dependent variable (DV) or independent variable (IV) [1 pt]\n",
    "\n",
    "Do the following when you write your hypothesis:\n",
    "\n",
    "    A. Write a couple sentences about the theoretical reasons (prior knowledge / research) for why you think that multiple dependent or independent variables of interest are correlated with eachother in one or more groupings\n",
    "    \n",
    "    B. Tell us a 1-word variable name that you will assign to each multi-item scale that you think could well represent your potentially correlated variables. The 1-word variable names should reflect your theory in response to prompt A above.\n",
    "    \n",
    "    C. State the predicted direction of association between your dependent variable DV (multi-item scales or otherwise) and independent variables (IVs) (multi-item scales or otherwise) in your proposed model. You can predict no relationship if you do not expect a relationship."
   ]
  },
  {
   "cell_type": "code",
   "execution_count": 1,
   "metadata": {},
   "outputs": [
    {
     "name": "stdout",
     "output_type": "stream",
     "text": [
      "\n",
      "\n",
      "\n",
      "\n",
      "(Collaborative Psychiatric Epidemiology Surveys (CPES), 2001-2003 [United States])\n"
     ]
    }
   ],
   "source": [
    "clear \n",
    "set more off \n",
    "capture log close using problemset5log.log \n",
    "use C8 C8A C8B C9 B3 B16A B16B B16C B16D B17A B17B B17C B18 using \"20240-0003-Data.dta\", clear"
   ]
  },
  {
   "cell_type": "markdown",
   "metadata": {},
   "source": [
    "### 2. Estimate a correlation matrix [1 pt]\n",
    "\n",
    "    A. The matrix should include at least 4 independent or dependent variables (but not both) that you want to include in your multi-item scales \n",
    "    B. Make a list in this markdown cell that categorizes each potential correlation as strong or weak\n",
    "    C. Standardize the 4 variables so that they are all positively correlated"
   ]
  },
  {
   "cell_type": "code",
   "execution_count": null,
   "metadata": {},
   "outputs": [],
   "source": [
    "A. My overall theory is that individuals who tend to be more religious will also report that they have better overall health. I feel like religion may be associated with lower overall health due to the fact the more religious someone may be the less likely they will be to depend on spirtual healing. I also believe that the way that religion is practiced could also be important. The more physical interactions with religion could be more religous than those who practice at more from a distance. \n",
    "\n",
    "I think that my multiple variables measuring religiousness are related because they represent different ways of getting to how religious someone is. Although these variables are asking about different aspects of religion it is ultimately trying to get at the same thing.\n",
    "\n",
    "B.\n",
    "I will be using the names physical and distant to represnt my correlated variables. \n",
    "\n",
    "C. \n",
    "I predict that health will be negatively impacted by being more religious or more by physical interactions. \n"
   ]
  },
  {
   "cell_type": "code",
   "execution_count": 2,
   "metadata": {},
   "outputs": [
    {
     "name": "stdout",
     "output_type": "stream",
     "text": [
      "\n",
      "             |       B3     B16A     B16B     B16C\n",
      "-------------+------------------------------------\n",
      "          B3 |   1.0000 \n",
      "             |\n",
      "             |\n",
      "        B16A |   0.5281*  1.0000 \n",
      "             |   0.0000\n",
      "             |\n",
      "        B16B |   0.3218*  0.4509*  1.0000 \n",
      "             |   0.0000   0.0000\n",
      "             |\n",
      "        B16C |   0.3556*  0.4058*  0.5117*  1.0000 \n",
      "             |   0.0000   0.0000   0.0000\n",
      "             |\n"
     ]
    }
   ],
   "source": [
    "** A. \n",
    "\n",
    "pwcorr B3 B16A B16B B16C, sig star(.05)"
   ]
  },
  {
   "cell_type": "markdown",
   "metadata": {},
   "source": [
    "### 3. Estimate factor loadings [1 pt]\n",
    "\n",
    "    A. Estimate factor loadings for the variables you propose including in your multi-item scale(s)\n",
    "    B. Rotate and plot the factor loadings\n",
    "    C. Do the factor loadings support your hypothesis that multiple items should be grouped into a scale?\n",
    "    D. Do the factor loadings suggest any proposed items should not be included in your scale? Or that an additional scale is in order?"
   ]
  },
  {
   "cell_type": "code",
   "execution_count": 3,
   "metadata": {},
   "outputs": [
    {
     "name": "stdout",
     "output_type": "stream",
     "text": [
      "\n",
      "(obs=5,575)\n",
      "\n",
      "Factor analysis/correlation                      Number of obs    =      5,575\n",
      "    Method: principal factors                    Retained factors =          2\n",
      "    Rotation: (unrotated)                        Number of params =          6\n",
      "\n",
      "    --------------------------------------------------------------------------\n",
      "         Factor  |   Eigenvalue   Difference        Proportion   Cumulative\n",
      "    -------------+------------------------------------------------------------\n",
      "        Factor1  |      1.56794      1.47793            1.2341       1.2341\n",
      "        Factor2  |      0.09001      0.24620            0.0708       1.3049\n",
      "        Factor3  |     -0.15619      0.07505           -0.1229       1.1820\n",
      "        Factor4  |     -0.23124            .           -0.1820       1.0000\n",
      "    --------------------------------------------------------------------------\n",
      "    LR test: independent vs. saturated:  chi2(6)  = 4949.67 Prob>chi2 = 0.0000\n",
      "\n",
      "Factor loadings (pattern matrix) and unique variances\n",
      "\n",
      "    -------------------------------------------------\n",
      "        Variable |  Factor1   Factor2 |   Uniqueness \n",
      "    -------------+--------------------+--------------\n",
      "              B3 |   0.6099   -0.1667 |      0.6002  \n",
      "            B16A |   0.6709   -0.1257 |      0.5341  \n",
      "            B16B |   0.6148    0.1562 |      0.5976  \n",
      "            B16C |   0.6064    0.1484 |      0.6102  \n",
      "    -------------------------------------------------\n"
     ]
    },
    {
     "data": {
      "application/pdf": "[encoded data removed]",
      "image/svg+xml": [
       "<?xml version=\"1.0\" encoding=\"UTF-8\" standalone=\"no\"?>\n",
       "<!-- This is a Stata 16.1 generated SVG file (http://www.stata.com) -->\n",
       "\n",
       "<svg version=\"1.1\" width=\"600px\" height=\"436px\" viewBox=\"0 0 3960 2880\" xmlns=\"http://www.w3.org/2000/svg\" xmlns:xlink=\"http://www.w3.org/1999/xlink\">\n",
       "\t<desc>Stata Graph - Graph</desc>\n",
       "\t<rect x=\"0\" y=\"0\" width=\"3960\" height=\"2880\" style=\"fill:#EAF2F3;stroke:none\"/>\n",
       "\t<rect x=\"0.00\" y=\"0.00\" width=\"3959.88\" height=\"2880.00\" style=\"fill:#EAF2F3\"/>\n",
       "\t<rect x=\"2.88\" y=\"2.88\" width=\"3954.12\" height=\"2874.24\" style=\"fill:none;stroke:#EAF2F3;stroke-width:5.76\"/>\n",
       "\t<rect x=\"63.36\" y=\"237.98\" width=\"3833.16\" height=\"2578.66\" style=\"fill:#EAF2F3\"/>\n",
       "\t<rect x=\"66.24\" y=\"240.86\" width=\"3827.40\" height=\"2572.90\" style=\"fill:none;stroke:#EAF2F3;stroke-width:5.76\"/>\n",
       "\t<rect x=\"454.16\" y=\"338.71\" width=\"3341.50\" height=\"2087.11\" style=\"fill:#FFFFFF\"/>\n",
       "\t<rect x=\"457.04\" y=\"341.59\" width=\"3335.74\" height=\"2081.35\" style=\"fill:none;stroke:#FFFFFF;stroke-width:5.76\"/>\n",
       "\t<line x1=\"454.16\" y1=\"2362.46\" x2=\"3795.66\" y2=\"2362.46\" style=\"stroke:#EAF2F3;stroke-width:8.64\"/>\n",
       "\t<line x1=\"454.16\" y1=\"1872.40\" x2=\"3795.66\" y2=\"1872.40\" style=\"stroke:#EAF2F3;stroke-width:8.64\"/>\n",
       "\t<line x1=\"454.16\" y1=\"1382.33\" x2=\"3795.66\" y2=\"1382.33\" style=\"stroke:#EAF2F3;stroke-width:8.64\"/>\n",
       "\t<line x1=\"454.16\" y1=\"892.14\" x2=\"3795.66\" y2=\"892.14\" style=\"stroke:#EAF2F3;stroke-width:8.64\"/>\n",
       "\t<line x1=\"454.16\" y1=\"402.08\" x2=\"3795.66\" y2=\"402.08\" style=\"stroke:#EAF2F3;stroke-width:8.64\"/>\n",
       "\t<circle cx=\"916.49\" cy=\"2199.48\" r=\"26.35\" style=\"fill:#1A476F\"/>\n",
       "\t<circle cx=\"916.49\" cy=\"2199.48\" r=\"22.03\" style=\"fill:none;stroke:#1A476F;stroke-width:8.64\"/>\n",
       "\t<text x=\"937.53\" y=\"2163.09\" style=\"font-family:'Helvetica';font-size:79.94px;fill:#1A476f\">B3</text>\n",
       "\t<circle cx=\"3367.49\" cy=\"1998.25\" r=\"26.35\" style=\"fill:#1A476F\"/>\n",
       "\t<circle cx=\"3367.49\" cy=\"1998.25\" r=\"22.03\" style=\"fill:none;stroke:#1A476F;stroke-width:8.64\"/>\n",
       "\t<text x=\"3325.53\" y=\"2026.27\" style=\"font-family:'Helvetica';font-size:79.94px;fill:#1A476f\" text-anchor=\"end\">B16A</text>\n",
       "\t<circle cx=\"1114.00\" cy=\"617.04\" r=\"26.35\" style=\"fill:#1A476F\"/>\n",
       "\t<circle cx=\"1114.00\" cy=\"617.04\" r=\"22.03\" style=\"fill:none;stroke:#1A476F;stroke-width:8.64\"/>\n",
       "\t<text x=\"1114.00\" y=\"714.89\" style=\"font-family:'Helvetica';font-size:79.94px;fill:#1A476f\" text-anchor=\"middle\">B16B</text>\n",
       "\t<circle cx=\"776.16\" cy=\"654.91\" r=\"26.35\" style=\"fill:#1A476F\"/>\n",
       "\t<circle cx=\"776.16\" cy=\"654.91\" r=\"22.03\" style=\"fill:none;stroke:#1A476F;stroke-width:8.64\"/>\n",
       "\t<text x=\"797.20\" y=\"747.19\" style=\"font-family:'Helvetica';font-size:79.94px;fill:#1A476f\">B16C</text>\n",
       "\t<line x1=\"454.16\" y1=\"2425.82\" x2=\"454.16\" y2=\"338.71\" style=\"stroke:#000000;stroke-width:5.76\"/>\n",
       "\t<line x1=\"454.16\" y1=\"2362.46\" x2=\"414.19\" y2=\"2362.46\" style=\"stroke:#000000;stroke-width:5.76\"/>\n",
       "\t<text x=\"364.08\" y=\"2362.46\" style=\"font-family:'Helvetica';font-size:99.99px;fill:#000000\" transform=\"rotate(-90 364.08,2362.46)\" text-anchor=\"middle\">-.2</text>\n",
       "\t<line x1=\"454.16\" y1=\"1872.40\" x2=\"414.19\" y2=\"1872.40\" style=\"stroke:#000000;stroke-width:5.76\"/>\n",
       "\t<text x=\"364.08\" y=\"1872.40\" style=\"font-family:'Helvetica';font-size:99.99px;fill:#000000\" transform=\"rotate(-90 364.08,1872.40)\" text-anchor=\"middle\">-.1</text>\n",
       "\t<line x1=\"454.16\" y1=\"1382.33\" x2=\"414.19\" y2=\"1382.33\" style=\"stroke:#000000;stroke-width:5.76\"/>\n",
       "\t<text x=\"364.08\" y=\"1382.33\" style=\"font-family:'Helvetica';font-size:99.99px;fill:#000000\" transform=\"rotate(-90 364.08,1382.33)\" text-anchor=\"middle\">0</text>\n",
       "\t<line x1=\"454.16\" y1=\"892.14\" x2=\"414.19\" y2=\"892.14\" style=\"stroke:#000000;stroke-width:5.76\"/>\n",
       "\t<text x=\"364.08\" y=\"892.14\" style=\"font-family:'Helvetica';font-size:99.99px;fill:#000000\" transform=\"rotate(-90 364.08,892.14)\" text-anchor=\"middle\">.1</text>\n",
       "\t<line x1=\"454.16\" y1=\"402.08\" x2=\"414.19\" y2=\"402.08\" style=\"stroke:#000000;stroke-width:5.76\"/>\n",
       "\t<text x=\"364.08\" y=\"402.08\" style=\"font-family:'Helvetica';font-size:99.99px;fill:#000000\" transform=\"rotate(-90 364.08,402.08)\" text-anchor=\"middle\">.2</text>\n",
       "\t<text x=\"254.07\" y=\"1382.33\" style=\"font-family:'Helvetica';font-size:99.99px;fill:#000000\" transform=\"rotate(-90 254.07,1382.33)\" text-anchor=\"middle\">Factor 2</text>\n",
       "\t<line x1=\"454.16\" y1=\"2425.82\" x2=\"3795.66\" y2=\"2425.82\" style=\"stroke:#000000;stroke-width:5.76\"/>\n",
       "\t<line x1=\"517.52\" y1=\"2425.82\" x2=\"517.52\" y2=\"2465.80\" style=\"stroke:#000000;stroke-width:5.76\"/>\n",
       "\t<text x=\"517.52\" y=\"2555.78\" style=\"font-family:'Helvetica';font-size:99.99px;fill:#000000\" text-anchor=\"middle\">.6</text>\n",
       "\t<line x1=\"1321.15\" y1=\"2425.82\" x2=\"1321.15\" y2=\"2465.80\" style=\"stroke:#000000;stroke-width:5.76\"/>\n",
       "\t<text x=\"1321.15\" y=\"2555.78\" style=\"font-family:'Helvetica';font-size:99.99px;fill:#000000\" text-anchor=\"middle\">.62</text>\n",
       "\t<line x1=\"2124.91\" y1=\"2425.82\" x2=\"2124.91\" y2=\"2465.80\" style=\"stroke:#000000;stroke-width:5.76\"/>\n",
       "\t<text x=\"2124.91\" y=\"2555.78\" style=\"font-family:'Helvetica';font-size:99.99px;fill:#000000\" text-anchor=\"middle\">.64</text>\n",
       "\t<line x1=\"2928.67\" y1=\"2425.82\" x2=\"2928.67\" y2=\"2465.80\" style=\"stroke:#000000;stroke-width:5.76\"/>\n",
       "\t<text x=\"2928.67\" y=\"2555.78\" style=\"font-family:'Helvetica';font-size:99.99px;fill:#000000\" text-anchor=\"middle\">.66</text>\n",
       "\t<line x1=\"3732.42\" y1=\"2425.82\" x2=\"3732.42\" y2=\"2465.80\" style=\"stroke:#000000;stroke-width:5.76\"/>\n",
       "\t<text x=\"3732.42\" y=\"2555.78\" style=\"font-family:'Helvetica';font-size:99.99px;fill:#000000\" text-anchor=\"middle\">.68</text>\n",
       "\t<text x=\"2124.91\" y=\"2665.79\" style=\"font-family:'Helvetica';font-size:99.99px;fill:#000000\" text-anchor=\"middle\">Factor 1</text>\n",
       "\t<text x=\"1980.00\" y=\"178.60\" style=\"font-family:'Helvetica';font-size:139.96px;fill:#1E2D53\" text-anchor=\"middle\">Factor loadings</text>\n",
       "</svg>\n"
      ],
      "text/html": [
       "                <iframe frameborder=\"0\" scrolling=\"no\" height=\"436\" width=\"600\"                srcdoc=\"<html><body>&lt;?xml version=&quot;1.0&quot; encoding=&quot;UTF-8&quot; standalone=&quot;no&quot;?&gt;\n",
       "&lt;!-- This is a Stata 16.1 generated SVG file (http://www.stata.com) --&gt;\n",
       "\n",
       "&lt;svg version=&quot;1.1&quot; width=&quot;600px&quot; height=&quot;436px&quot; viewBox=&quot;0 0 3960 2880&quot; xmlns=&quot;http://www.w3.org/2000/svg&quot; xmlns:xlink=&quot;http://www.w3.org/1999/xlink&quot;&gt;\n",
       "\t&lt;desc&gt;Stata Graph - Graph&lt;/desc&gt;\n",
       "\t&lt;rect x=&quot;0&quot; y=&quot;0&quot; width=&quot;3960&quot; height=&quot;2880&quot; style=&quot;fill:#EAF2F3;stroke:none&quot;/&gt;\n",
       "\t&lt;rect x=&quot;0.00&quot; y=&quot;0.00&quot; width=&quot;3959.88&quot; height=&quot;2880.00&quot; style=&quot;fill:#EAF2F3&quot;/&gt;\n",
       "\t&lt;rect x=&quot;2.88&quot; y=&quot;2.88&quot; width=&quot;3954.12&quot; height=&quot;2874.24&quot; style=&quot;fill:none;stroke:#EAF2F3;stroke-width:5.76&quot;/&gt;\n",
       "\t&lt;rect x=&quot;63.36&quot; y=&quot;237.98&quot; width=&quot;3833.16&quot; height=&quot;2578.66&quot; style=&quot;fill:#EAF2F3&quot;/&gt;\n",
       "\t&lt;rect x=&quot;66.24&quot; y=&quot;240.86&quot; width=&quot;3827.40&quot; height=&quot;2572.90&quot; style=&quot;fill:none;stroke:#EAF2F3;stroke-width:5.76&quot;/&gt;\n",
       "\t&lt;rect x=&quot;454.16&quot; y=&quot;338.71&quot; width=&quot;3341.50&quot; height=&quot;2087.11&quot; style=&quot;fill:#FFFFFF&quot;/&gt;\n",
       "\t&lt;rect x=&quot;457.04&quot; y=&quot;341.59&quot; width=&quot;3335.74&quot; height=&quot;2081.35&quot; style=&quot;fill:none;stroke:#FFFFFF;stroke-width:5.76&quot;/&gt;\n",
       "\t&lt;line x1=&quot;454.16&quot; y1=&quot;2362.46&quot; x2=&quot;3795.66&quot; y2=&quot;2362.46&quot; style=&quot;stroke:#EAF2F3;stroke-width:8.64&quot;/&gt;\n",
       "\t&lt;line x1=&quot;454.16&quot; y1=&quot;1872.40&quot; x2=&quot;3795.66&quot; y2=&quot;1872.40&quot; style=&quot;stroke:#EAF2F3;stroke-width:8.64&quot;/&gt;\n",
       "\t&lt;line x1=&quot;454.16&quot; y1=&quot;1382.33&quot; x2=&quot;3795.66&quot; y2=&quot;1382.33&quot; style=&quot;stroke:#EAF2F3;stroke-width:8.64&quot;/&gt;\n",
       "\t&lt;line x1=&quot;454.16&quot; y1=&quot;892.14&quot; x2=&quot;3795.66&quot; y2=&quot;892.14&quot; style=&quot;stroke:#EAF2F3;stroke-width:8.64&quot;/&gt;\n",
       "\t&lt;line x1=&quot;454.16&quot; y1=&quot;402.08&quot; x2=&quot;3795.66&quot; y2=&quot;402.08&quot; style=&quot;stroke:#EAF2F3;stroke-width:8.64&quot;/&gt;\n",
       "\t&lt;circle cx=&quot;916.49&quot; cy=&quot;2199.48&quot; r=&quot;26.35&quot; style=&quot;fill:#1A476F&quot;/&gt;\n",
       "\t&lt;circle cx=&quot;916.49&quot; cy=&quot;2199.48&quot; r=&quot;22.03&quot; style=&quot;fill:none;stroke:#1A476F;stroke-width:8.64&quot;/&gt;\n",
       "\t&lt;text x=&quot;937.53&quot; y=&quot;2163.09&quot; style=&quot;font-family:&#x27;Helvetica&#x27;;font-size:79.94px;fill:#1A476f&quot;&gt;B3&lt;/text&gt;\n",
       "\t&lt;circle cx=&quot;3367.49&quot; cy=&quot;1998.25&quot; r=&quot;26.35&quot; style=&quot;fill:#1A476F&quot;/&gt;\n",
       "\t&lt;circle cx=&quot;3367.49&quot; cy=&quot;1998.25&quot; r=&quot;22.03&quot; style=&quot;fill:none;stroke:#1A476F;stroke-width:8.64&quot;/&gt;\n",
       "\t&lt;text x=&quot;3325.53&quot; y=&quot;2026.27&quot; style=&quot;font-family:&#x27;Helvetica&#x27;;font-size:79.94px;fill:#1A476f&quot; text-anchor=&quot;end&quot;&gt;B16A&lt;/text&gt;\n",
       "\t&lt;circle cx=&quot;1114.00&quot; cy=&quot;617.04&quot; r=&quot;26.35&quot; style=&quot;fill:#1A476F&quot;/&gt;\n",
       "\t&lt;circle cx=&quot;1114.00&quot; cy=&quot;617.04&quot; r=&quot;22.03&quot; style=&quot;fill:none;stroke:#1A476F;stroke-width:8.64&quot;/&gt;\n",
       "\t&lt;text x=&quot;1114.00&quot; y=&quot;714.89&quot; style=&quot;font-family:&#x27;Helvetica&#x27;;font-size:79.94px;fill:#1A476f&quot; text-anchor=&quot;middle&quot;&gt;B16B&lt;/text&gt;\n",
       "\t&lt;circle cx=&quot;776.16&quot; cy=&quot;654.91&quot; r=&quot;26.35&quot; style=&quot;fill:#1A476F&quot;/&gt;\n",
       "\t&lt;circle cx=&quot;776.16&quot; cy=&quot;654.91&quot; r=&quot;22.03&quot; style=&quot;fill:none;stroke:#1A476F;stroke-width:8.64&quot;/&gt;\n",
       "\t&lt;text x=&quot;797.20&quot; y=&quot;747.19&quot; style=&quot;font-family:&#x27;Helvetica&#x27;;font-size:79.94px;fill:#1A476f&quot;&gt;B16C&lt;/text&gt;\n",
       "\t&lt;line x1=&quot;454.16&quot; y1=&quot;2425.82&quot; x2=&quot;454.16&quot; y2=&quot;338.71&quot; style=&quot;stroke:#000000;stroke-width:5.76&quot;/&gt;\n",
       "\t&lt;line x1=&quot;454.16&quot; y1=&quot;2362.46&quot; x2=&quot;414.19&quot; y2=&quot;2362.46&quot; style=&quot;stroke:#000000;stroke-width:5.76&quot;/&gt;\n",
       "\t&lt;text x=&quot;364.08&quot; y=&quot;2362.46&quot; style=&quot;font-family:&#x27;Helvetica&#x27;;font-size:99.99px;fill:#000000&quot; transform=&quot;rotate(-90 364.08,2362.46)&quot; text-anchor=&quot;middle&quot;&gt;-.2&lt;/text&gt;\n",
       "\t&lt;line x1=&quot;454.16&quot; y1=&quot;1872.40&quot; x2=&quot;414.19&quot; y2=&quot;1872.40&quot; style=&quot;stroke:#000000;stroke-width:5.76&quot;/&gt;\n",
       "\t&lt;text x=&quot;364.08&quot; y=&quot;1872.40&quot; style=&quot;font-family:&#x27;Helvetica&#x27;;font-size:99.99px;fill:#000000&quot; transform=&quot;rotate(-90 364.08,1872.40)&quot; text-anchor=&quot;middle&quot;&gt;-.1&lt;/text&gt;\n",
       "\t&lt;line x1=&quot;454.16&quot; y1=&quot;1382.33&quot; x2=&quot;414.19&quot; y2=&quot;1382.33&quot; style=&quot;stroke:#000000;stroke-width:5.76&quot;/&gt;\n",
       "\t&lt;text x=&quot;364.08&quot; y=&quot;1382.33&quot; style=&quot;font-family:&#x27;Helvetica&#x27;;font-size:99.99px;fill:#000000&quot; transform=&quot;rotate(-90 364.08,1382.33)&quot; text-anchor=&quot;middle&quot;&gt;0&lt;/text&gt;\n",
       "\t&lt;line x1=&quot;454.16&quot; y1=&quot;892.14&quot; x2=&quot;414.19&quot; y2=&quot;892.14&quot; style=&quot;stroke:#000000;stroke-width:5.76&quot;/&gt;\n",
       "\t&lt;text x=&quot;364.08&quot; y=&quot;892.14&quot; style=&quot;font-family:&#x27;Helvetica&#x27;;font-size:99.99px;fill:#000000&quot; transform=&quot;rotate(-90 364.08,892.14)&quot; text-anchor=&quot;middle&quot;&gt;.1&lt;/text&gt;\n",
       "\t&lt;line x1=&quot;454.16&quot; y1=&quot;402.08&quot; x2=&quot;414.19&quot; y2=&quot;402.08&quot; style=&quot;stroke:#000000;stroke-width:5.76&quot;/&gt;\n",
       "\t&lt;text x=&quot;364.08&quot; y=&quot;402.08&quot; style=&quot;font-family:&#x27;Helvetica&#x27;;font-size:99.99px;fill:#000000&quot; transform=&quot;rotate(-90 364.08,402.08)&quot; text-anchor=&quot;middle&quot;&gt;.2&lt;/text&gt;\n",
       "\t&lt;text x=&quot;254.07&quot; y=&quot;1382.33&quot; style=&quot;font-family:&#x27;Helvetica&#x27;;font-size:99.99px;fill:#000000&quot; transform=&quot;rotate(-90 254.07,1382.33)&quot; text-anchor=&quot;middle&quot;&gt;Factor 2&lt;/text&gt;\n",
       "\t&lt;line x1=&quot;454.16&quot; y1=&quot;2425.82&quot; x2=&quot;3795.66&quot; y2=&quot;2425.82&quot; style=&quot;stroke:#000000;stroke-width:5.76&quot;/&gt;\n",
       "\t&lt;line x1=&quot;517.52&quot; y1=&quot;2425.82&quot; x2=&quot;517.52&quot; y2=&quot;2465.80&quot; style=&quot;stroke:#000000;stroke-width:5.76&quot;/&gt;\n",
       "\t&lt;text x=&quot;517.52&quot; y=&quot;2555.78&quot; style=&quot;font-family:&#x27;Helvetica&#x27;;font-size:99.99px;fill:#000000&quot; text-anchor=&quot;middle&quot;&gt;.6&lt;/text&gt;\n",
       "\t&lt;line x1=&quot;1321.15&quot; y1=&quot;2425.82&quot; x2=&quot;1321.15&quot; y2=&quot;2465.80&quot; style=&quot;stroke:#000000;stroke-width:5.76&quot;/&gt;\n",
       "\t&lt;text x=&quot;1321.15&quot; y=&quot;2555.78&quot; style=&quot;font-family:&#x27;Helvetica&#x27;;font-size:99.99px;fill:#000000&quot; text-anchor=&quot;middle&quot;&gt;.62&lt;/text&gt;\n",
       "\t&lt;line x1=&quot;2124.91&quot; y1=&quot;2425.82&quot; x2=&quot;2124.91&quot; y2=&quot;2465.80&quot; style=&quot;stroke:#000000;stroke-width:5.76&quot;/&gt;\n",
       "\t&lt;text x=&quot;2124.91&quot; y=&quot;2555.78&quot; style=&quot;font-family:&#x27;Helvetica&#x27;;font-size:99.99px;fill:#000000&quot; text-anchor=&quot;middle&quot;&gt;.64&lt;/text&gt;\n",
       "\t&lt;line x1=&quot;2928.67&quot; y1=&quot;2425.82&quot; x2=&quot;2928.67&quot; y2=&quot;2465.80&quot; style=&quot;stroke:#000000;stroke-width:5.76&quot;/&gt;\n",
       "\t&lt;text x=&quot;2928.67&quot; y=&quot;2555.78&quot; style=&quot;font-family:&#x27;Helvetica&#x27;;font-size:99.99px;fill:#000000&quot; text-anchor=&quot;middle&quot;&gt;.66&lt;/text&gt;\n",
       "\t&lt;line x1=&quot;3732.42&quot; y1=&quot;2425.82&quot; x2=&quot;3732.42&quot; y2=&quot;2465.80&quot; style=&quot;stroke:#000000;stroke-width:5.76&quot;/&gt;\n",
       "\t&lt;text x=&quot;3732.42&quot; y=&quot;2555.78&quot; style=&quot;font-family:&#x27;Helvetica&#x27;;font-size:99.99px;fill:#000000&quot; text-anchor=&quot;middle&quot;&gt;.68&lt;/text&gt;\n",
       "\t&lt;text x=&quot;2124.91&quot; y=&quot;2665.79&quot; style=&quot;font-family:&#x27;Helvetica&#x27;;font-size:99.99px;fill:#000000&quot; text-anchor=&quot;middle&quot;&gt;Factor 1&lt;/text&gt;\n",
       "\t&lt;text x=&quot;1980.00&quot; y=&quot;178.60&quot; style=&quot;font-family:&#x27;Helvetica&#x27;;font-size:139.96px;fill:#1E2D53&quot; text-anchor=&quot;middle&quot;&gt;Factor loadings&lt;/text&gt;\n",
       "&lt;/svg&gt;\n",
       "</body></html>\"></iframe>\n"
      ],
      "text/plain": [
       "This front-end cannot display the desired image type."
      ]
     },
     "metadata": {
      "image/svg+xml": {
       "height": 436,
       "width": 600
      },
      "text/html": {
       "height": 436,
       "width": 600
      }
     },
     "output_type": "display_data"
    },
    {
     "name": "stdout",
     "output_type": "stream",
     "text": [
      "\n",
      "\n",
      "\n"
     ]
    }
   ],
   "source": [
    "** A. \n",
    "\n",
    "factor B3 B16A B16B B16C\n",
    "loadingplot, norotated"
   ]
  },
  {
   "cell_type": "code",
   "execution_count": 4,
   "metadata": {},
   "outputs": [
    {
     "name": "stdout",
     "output_type": "stream",
     "text": [
      "\n",
      "\n",
      "\n",
      "Factor analysis/correlation                      Number of obs    =      5,575\n",
      "    Method: principal factors                    Retained factors =          2\n",
      "    Rotation: orthogonal varimax (Kaiser off)    Number of params =          6\n",
      "\n",
      "    --------------------------------------------------------------------------\n",
      "         Factor  |     Variance   Difference        Proportion   Cumulative\n",
      "    -------------+------------------------------------------------------------\n",
      "        Factor1  |      0.90058      0.14320            0.7088       0.7088\n",
      "        Factor2  |      0.75737            .            0.5961       1.3049\n",
      "    --------------------------------------------------------------------------\n",
      "    LR test: independent vs. saturated:  chi2(6)  = 4949.67 Prob>chi2 = 0.0000\n",
      "\n",
      "Rotated factor loadings (pattern matrix) and unique variances\n",
      "\n",
      "    -------------------------------------------------\n",
      "        Variable |  Factor1   Factor2 |   Uniqueness \n",
      "    -------------+--------------------+--------------\n",
      "              B3 |   0.5637    0.2864 |      0.6002  \n",
      "            B16A |   0.5813    0.3578 |      0.5341  \n",
      "            B16B |   0.3504    0.5288 |      0.5976  \n",
      "            B16C |   0.3494    0.5174 |      0.6102  \n",
      "    -------------------------------------------------\n",
      "\n",
      "Factor rotation matrix\n",
      "\n",
      "    --------------------------------\n",
      "                 | Factor1  Factor2 \n",
      "    -------------+------------------\n",
      "         Factor1 |  0.7406   0.6720 \n",
      "         Factor2 | -0.6720   0.7406 \n",
      "    --------------------------------\n"
     ]
    },
    {
     "data": {
      "application/pdf": "[encoded data removed]",
      "image/svg+xml": [
       "<?xml version=\"1.0\" encoding=\"UTF-8\" standalone=\"no\"?>\n",
       "<!-- This is a Stata 16.1 generated SVG file (http://www.stata.com) -->\n",
       "\n",
       "<svg version=\"1.1\" width=\"600px\" height=\"436px\" viewBox=\"0 0 3960 2880\" xmlns=\"http://www.w3.org/2000/svg\" xmlns:xlink=\"http://www.w3.org/1999/xlink\">\n",
       "\t<desc>Stata Graph - Graph</desc>\n",
       "\t<rect x=\"0\" y=\"0\" width=\"3960\" height=\"2880\" style=\"fill:#EAF2F3;stroke:none\"/>\n",
       "\t<rect x=\"0.00\" y=\"0.00\" width=\"3959.88\" height=\"2880.00\" style=\"fill:#EAF2F3\"/>\n",
       "\t<rect x=\"2.88\" y=\"2.88\" width=\"3954.12\" height=\"2874.24\" style=\"fill:none;stroke:#EAF2F3;stroke-width:5.76\"/>\n",
       "\t<rect x=\"63.36\" y=\"237.98\" width=\"3833.16\" height=\"2384.12\" style=\"fill:#EAF2F3\"/>\n",
       "\t<rect x=\"66.24\" y=\"240.86\" width=\"3827.40\" height=\"2378.36\" style=\"fill:none;stroke:#EAF2F3;stroke-width:5.76\"/>\n",
       "\t<rect x=\"454.16\" y=\"338.71\" width=\"3341.50\" height=\"1892.57\" style=\"fill:#FFFFFF\"/>\n",
       "\t<rect x=\"457.04\" y=\"341.59\" width=\"3335.74\" height=\"1886.81\" style=\"fill:none;stroke:#FFFFFF;stroke-width:5.76\"/>\n",
       "\t<line x1=\"454.16\" y1=\"2076.71\" x2=\"3795.66\" y2=\"2076.71\" style=\"stroke:#EAF2F3;stroke-width:8.64\"/>\n",
       "\t<line x1=\"454.16\" y1=\"1741.84\" x2=\"3795.66\" y2=\"1741.84\" style=\"stroke:#EAF2F3;stroke-width:8.64\"/>\n",
       "\t<line x1=\"454.16\" y1=\"1406.83\" x2=\"3795.66\" y2=\"1406.83\" style=\"stroke:#EAF2F3;stroke-width:8.64\"/>\n",
       "\t<line x1=\"454.16\" y1=\"1071.96\" x2=\"3795.66\" y2=\"1071.96\" style=\"stroke:#EAF2F3;stroke-width:8.64\"/>\n",
       "\t<line x1=\"454.16\" y1=\"736.95\" x2=\"3795.66\" y2=\"736.95\" style=\"stroke:#EAF2F3;stroke-width:8.64\"/>\n",
       "\t<line x1=\"454.16\" y1=\"402.08\" x2=\"3795.66\" y2=\"402.08\" style=\"stroke:#EAF2F3;stroke-width:8.64\"/>\n",
       "\t<circle cx=\"3267.12\" cy=\"2167.92\" r=\"26.35\" style=\"fill:#1A476F\"/>\n",
       "\t<circle cx=\"3267.12\" cy=\"2167.92\" r=\"22.03\" style=\"fill:none;stroke:#1A476F;stroke-width:8.64\"/>\n",
       "\t<text x=\"3246.09\" y=\"2131.54\" style=\"font-family:'Helvetica';font-size:79.94px;fill:#1A476f\" text-anchor=\"end\">B3</text>\n",
       "\t<circle cx=\"3492.84\" cy=\"1689.86\" r=\"26.35\" style=\"fill:#1A476F\"/>\n",
       "\t<circle cx=\"3492.84\" cy=\"1689.86\" r=\"22.03\" style=\"fill:none;stroke:#1A476F;stroke-width:8.64\"/>\n",
       "\t<text x=\"3450.89\" y=\"1717.87\" style=\"font-family:'Helvetica';font-size:79.94px;fill:#1A476f\" text-anchor=\"end\">B16A</text>\n",
       "\t<circle cx=\"530.76\" cy=\"544.15\" r=\"26.35\" style=\"fill:#1A476F\"/>\n",
       "\t<circle cx=\"530.76\" cy=\"544.15\" r=\"22.03\" style=\"fill:none;stroke:#1A476F;stroke-width:8.64\"/>\n",
       "\t<text x=\"551.80\" y=\"636.43\" style=\"font-family:'Helvetica';font-size:79.94px;fill:#1A476f\">B16B</text>\n",
       "\t<circle cx=\"517.52\" cy=\"620.25\" r=\"26.35\" style=\"fill:#1A476F\"/>\n",
       "\t<circle cx=\"517.52\" cy=\"620.25\" r=\"22.03\" style=\"fill:none;stroke:#1A476F;stroke-width:8.64\"/>\n",
       "\t<text x=\"538.56\" y=\"712.54\" style=\"font-family:'Helvetica';font-size:79.94px;fill:#1A476f\">B16C</text>\n",
       "\t<line x1=\"454.16\" y1=\"2231.28\" x2=\"454.16\" y2=\"338.71\" style=\"stroke:#000000;stroke-width:5.76\"/>\n",
       "\t<line x1=\"454.16\" y1=\"2076.71\" x2=\"414.19\" y2=\"2076.71\" style=\"stroke:#000000;stroke-width:5.76\"/>\n",
       "\t<text x=\"364.08\" y=\"2076.71\" style=\"font-family:'Helvetica';font-size:99.99px;fill:#000000\" transform=\"rotate(-90 364.08,2076.71)\" text-anchor=\"middle\">.3</text>\n",
       "\t<line x1=\"454.16\" y1=\"1741.84\" x2=\"414.19\" y2=\"1741.84\" style=\"stroke:#000000;stroke-width:5.76\"/>\n",
       "\t<text x=\"364.08\" y=\"1741.84\" style=\"font-family:'Helvetica';font-size:99.99px;fill:#000000\" transform=\"rotate(-90 364.08,1741.84)\" text-anchor=\"middle\">.35</text>\n",
       "\t<line x1=\"454.16\" y1=\"1406.83\" x2=\"414.19\" y2=\"1406.83\" style=\"stroke:#000000;stroke-width:5.76\"/>\n",
       "\t<text x=\"364.08\" y=\"1406.83\" style=\"font-family:'Helvetica';font-size:99.99px;fill:#000000\" transform=\"rotate(-90 364.08,1406.83)\" text-anchor=\"middle\">.4</text>\n",
       "\t<line x1=\"454.16\" y1=\"1071.96\" x2=\"414.19\" y2=\"1071.96\" style=\"stroke:#000000;stroke-width:5.76\"/>\n",
       "\t<text x=\"364.08\" y=\"1071.96\" style=\"font-family:'Helvetica';font-size:99.99px;fill:#000000\" transform=\"rotate(-90 364.08,1071.96)\" text-anchor=\"middle\">.45</text>\n",
       "\t<line x1=\"454.16\" y1=\"736.95\" x2=\"414.19\" y2=\"736.95\" style=\"stroke:#000000;stroke-width:5.76\"/>\n",
       "\t<text x=\"364.08\" y=\"736.95\" style=\"font-family:'Helvetica';font-size:99.99px;fill:#000000\" transform=\"rotate(-90 364.08,736.95)\" text-anchor=\"middle\">.5</text>\n",
       "\t<line x1=\"454.16\" y1=\"402.08\" x2=\"414.19\" y2=\"402.08\" style=\"stroke:#000000;stroke-width:5.76\"/>\n",
       "\t<text x=\"364.08\" y=\"402.08\" style=\"font-family:'Helvetica';font-size:99.99px;fill:#000000\" transform=\"rotate(-90 364.08,402.08)\" text-anchor=\"middle\">.55</text>\n",
       "\t<text x=\"254.07\" y=\"1285.06\" style=\"font-family:'Helvetica';font-size:99.99px;fill:#000000\" transform=\"rotate(-90 254.07,1285.06)\" text-anchor=\"middle\">Factor 2</text>\n",
       "\t<line x1=\"454.16\" y1=\"2231.28\" x2=\"3795.66\" y2=\"2231.28\" style=\"stroke:#000000;stroke-width:5.76\"/>\n",
       "\t<line x1=\"525.57\" y1=\"2231.28\" x2=\"525.57\" y2=\"2271.38\" style=\"stroke:#000000;stroke-width:5.76\"/>\n",
       "\t<text x=\"525.57\" y=\"2361.24\" style=\"font-family:'Helvetica';font-size:99.99px;fill:#000000\" text-anchor=\"middle\">.35</text>\n",
       "\t<line x1=\"1166.96\" y1=\"2231.28\" x2=\"1166.96\" y2=\"2271.38\" style=\"stroke:#000000;stroke-width:5.76\"/>\n",
       "\t<text x=\"1166.96\" y=\"2361.24\" style=\"font-family:'Helvetica';font-size:99.99px;fill:#000000\" text-anchor=\"middle\">.4</text>\n",
       "\t<line x1=\"1808.23\" y1=\"2231.28\" x2=\"1808.23\" y2=\"2271.38\" style=\"stroke:#000000;stroke-width:5.76\"/>\n",
       "\t<text x=\"1808.23\" y=\"2361.24\" style=\"font-family:'Helvetica';font-size:99.99px;fill:#000000\" text-anchor=\"middle\">.45</text>\n",
       "\t<line x1=\"2449.63\" y1=\"2231.28\" x2=\"2449.63\" y2=\"2271.38\" style=\"stroke:#000000;stroke-width:5.76\"/>\n",
       "\t<text x=\"2449.63\" y=\"2361.24\" style=\"font-family:'Helvetica';font-size:99.99px;fill:#000000\" text-anchor=\"middle\">.5</text>\n",
       "\t<line x1=\"3091.03\" y1=\"2231.28\" x2=\"3091.03\" y2=\"2271.38\" style=\"stroke:#000000;stroke-width:5.76\"/>\n",
       "\t<text x=\"3091.03\" y=\"2361.24\" style=\"font-family:'Helvetica';font-size:99.99px;fill:#000000\" text-anchor=\"middle\">.55</text>\n",
       "\t<line x1=\"3732.42\" y1=\"2231.28\" x2=\"3732.42\" y2=\"2271.38\" style=\"stroke:#000000;stroke-width:5.76\"/>\n",
       "\t<text x=\"3732.42\" y=\"2361.24\" style=\"font-family:'Helvetica';font-size:99.99px;fill:#000000\" text-anchor=\"middle\">.6</text>\n",
       "\t<text x=\"2124.91\" y=\"2471.25\" style=\"font-family:'Helvetica';font-size:99.99px;fill:#000000\" text-anchor=\"middle\">Factor 1</text>\n",
       "\t<text x=\"80.69\" y=\"2695.32\" style=\"font-family:'Helvetica';font-size:79.94px;fill:#000000\">Rotation: orthogonal varimax</text>\n",
       "\t<text x=\"80.69\" y=\"2775.27\" style=\"font-family:'Helvetica';font-size:79.94px;fill:#000000\">Method: principal factors</text>\n",
       "\t<text x=\"1980.00\" y=\"178.60\" style=\"font-family:'Helvetica';font-size:139.96px;fill:#1E2D53\" text-anchor=\"middle\">Factor loadings</text>\n",
       "</svg>\n"
      ],
      "text/html": [
       "                <iframe frameborder=\"0\" scrolling=\"no\" height=\"436\" width=\"600\"                srcdoc=\"<html><body>&lt;?xml version=&quot;1.0&quot; encoding=&quot;UTF-8&quot; standalone=&quot;no&quot;?&gt;\n",
       "&lt;!-- This is a Stata 16.1 generated SVG file (http://www.stata.com) --&gt;\n",
       "\n",
       "&lt;svg version=&quot;1.1&quot; width=&quot;600px&quot; height=&quot;436px&quot; viewBox=&quot;0 0 3960 2880&quot; xmlns=&quot;http://www.w3.org/2000/svg&quot; xmlns:xlink=&quot;http://www.w3.org/1999/xlink&quot;&gt;\n",
       "\t&lt;desc&gt;Stata Graph - Graph&lt;/desc&gt;\n",
       "\t&lt;rect x=&quot;0&quot; y=&quot;0&quot; width=&quot;3960&quot; height=&quot;2880&quot; style=&quot;fill:#EAF2F3;stroke:none&quot;/&gt;\n",
       "\t&lt;rect x=&quot;0.00&quot; y=&quot;0.00&quot; width=&quot;3959.88&quot; height=&quot;2880.00&quot; style=&quot;fill:#EAF2F3&quot;/&gt;\n",
       "\t&lt;rect x=&quot;2.88&quot; y=&quot;2.88&quot; width=&quot;3954.12&quot; height=&quot;2874.24&quot; style=&quot;fill:none;stroke:#EAF2F3;stroke-width:5.76&quot;/&gt;\n",
       "\t&lt;rect x=&quot;63.36&quot; y=&quot;237.98&quot; width=&quot;3833.16&quot; height=&quot;2384.12&quot; style=&quot;fill:#EAF2F3&quot;/&gt;\n",
       "\t&lt;rect x=&quot;66.24&quot; y=&quot;240.86&quot; width=&quot;3827.40&quot; height=&quot;2378.36&quot; style=&quot;fill:none;stroke:#EAF2F3;stroke-width:5.76&quot;/&gt;\n",
       "\t&lt;rect x=&quot;454.16&quot; y=&quot;338.71&quot; width=&quot;3341.50&quot; height=&quot;1892.57&quot; style=&quot;fill:#FFFFFF&quot;/&gt;\n",
       "\t&lt;rect x=&quot;457.04&quot; y=&quot;341.59&quot; width=&quot;3335.74&quot; height=&quot;1886.81&quot; style=&quot;fill:none;stroke:#FFFFFF;stroke-width:5.76&quot;/&gt;\n",
       "\t&lt;line x1=&quot;454.16&quot; y1=&quot;2076.71&quot; x2=&quot;3795.66&quot; y2=&quot;2076.71&quot; style=&quot;stroke:#EAF2F3;stroke-width:8.64&quot;/&gt;\n",
       "\t&lt;line x1=&quot;454.16&quot; y1=&quot;1741.84&quot; x2=&quot;3795.66&quot; y2=&quot;1741.84&quot; style=&quot;stroke:#EAF2F3;stroke-width:8.64&quot;/&gt;\n",
       "\t&lt;line x1=&quot;454.16&quot; y1=&quot;1406.83&quot; x2=&quot;3795.66&quot; y2=&quot;1406.83&quot; style=&quot;stroke:#EAF2F3;stroke-width:8.64&quot;/&gt;\n",
       "\t&lt;line x1=&quot;454.16&quot; y1=&quot;1071.96&quot; x2=&quot;3795.66&quot; y2=&quot;1071.96&quot; style=&quot;stroke:#EAF2F3;stroke-width:8.64&quot;/&gt;\n",
       "\t&lt;line x1=&quot;454.16&quot; y1=&quot;736.95&quot; x2=&quot;3795.66&quot; y2=&quot;736.95&quot; style=&quot;stroke:#EAF2F3;stroke-width:8.64&quot;/&gt;\n",
       "\t&lt;line x1=&quot;454.16&quot; y1=&quot;402.08&quot; x2=&quot;3795.66&quot; y2=&quot;402.08&quot; style=&quot;stroke:#EAF2F3;stroke-width:8.64&quot;/&gt;\n",
       "\t&lt;circle cx=&quot;3267.12&quot; cy=&quot;2167.92&quot; r=&quot;26.35&quot; style=&quot;fill:#1A476F&quot;/&gt;\n",
       "\t&lt;circle cx=&quot;3267.12&quot; cy=&quot;2167.92&quot; r=&quot;22.03&quot; style=&quot;fill:none;stroke:#1A476F;stroke-width:8.64&quot;/&gt;\n",
       "\t&lt;text x=&quot;3246.09&quot; y=&quot;2131.54&quot; style=&quot;font-family:&#x27;Helvetica&#x27;;font-size:79.94px;fill:#1A476f&quot; text-anchor=&quot;end&quot;&gt;B3&lt;/text&gt;\n",
       "\t&lt;circle cx=&quot;3492.84&quot; cy=&quot;1689.86&quot; r=&quot;26.35&quot; style=&quot;fill:#1A476F&quot;/&gt;\n",
       "\t&lt;circle cx=&quot;3492.84&quot; cy=&quot;1689.86&quot; r=&quot;22.03&quot; style=&quot;fill:none;stroke:#1A476F;stroke-width:8.64&quot;/&gt;\n",
       "\t&lt;text x=&quot;3450.89&quot; y=&quot;1717.87&quot; style=&quot;font-family:&#x27;Helvetica&#x27;;font-size:79.94px;fill:#1A476f&quot; text-anchor=&quot;end&quot;&gt;B16A&lt;/text&gt;\n",
       "\t&lt;circle cx=&quot;530.76&quot; cy=&quot;544.15&quot; r=&quot;26.35&quot; style=&quot;fill:#1A476F&quot;/&gt;\n",
       "\t&lt;circle cx=&quot;530.76&quot; cy=&quot;544.15&quot; r=&quot;22.03&quot; style=&quot;fill:none;stroke:#1A476F;stroke-width:8.64&quot;/&gt;\n",
       "\t&lt;text x=&quot;551.80&quot; y=&quot;636.43&quot; style=&quot;font-family:&#x27;Helvetica&#x27;;font-size:79.94px;fill:#1A476f&quot;&gt;B16B&lt;/text&gt;\n",
       "\t&lt;circle cx=&quot;517.52&quot; cy=&quot;620.25&quot; r=&quot;26.35&quot; style=&quot;fill:#1A476F&quot;/&gt;\n",
       "\t&lt;circle cx=&quot;517.52&quot; cy=&quot;620.25&quot; r=&quot;22.03&quot; style=&quot;fill:none;stroke:#1A476F;stroke-width:8.64&quot;/&gt;\n",
       "\t&lt;text x=&quot;538.56&quot; y=&quot;712.54&quot; style=&quot;font-family:&#x27;Helvetica&#x27;;font-size:79.94px;fill:#1A476f&quot;&gt;B16C&lt;/text&gt;\n",
       "\t&lt;line x1=&quot;454.16&quot; y1=&quot;2231.28&quot; x2=&quot;454.16&quot; y2=&quot;338.71&quot; style=&quot;stroke:#000000;stroke-width:5.76&quot;/&gt;\n",
       "\t&lt;line x1=&quot;454.16&quot; y1=&quot;2076.71&quot; x2=&quot;414.19&quot; y2=&quot;2076.71&quot; style=&quot;stroke:#000000;stroke-width:5.76&quot;/&gt;\n",
       "\t&lt;text x=&quot;364.08&quot; y=&quot;2076.71&quot; style=&quot;font-family:&#x27;Helvetica&#x27;;font-size:99.99px;fill:#000000&quot; transform=&quot;rotate(-90 364.08,2076.71)&quot; text-anchor=&quot;middle&quot;&gt;.3&lt;/text&gt;\n",
       "\t&lt;line x1=&quot;454.16&quot; y1=&quot;1741.84&quot; x2=&quot;414.19&quot; y2=&quot;1741.84&quot; style=&quot;stroke:#000000;stroke-width:5.76&quot;/&gt;\n",
       "\t&lt;text x=&quot;364.08&quot; y=&quot;1741.84&quot; style=&quot;font-family:&#x27;Helvetica&#x27;;font-size:99.99px;fill:#000000&quot; transform=&quot;rotate(-90 364.08,1741.84)&quot; text-anchor=&quot;middle&quot;&gt;.35&lt;/text&gt;\n",
       "\t&lt;line x1=&quot;454.16&quot; y1=&quot;1406.83&quot; x2=&quot;414.19&quot; y2=&quot;1406.83&quot; style=&quot;stroke:#000000;stroke-width:5.76&quot;/&gt;\n",
       "\t&lt;text x=&quot;364.08&quot; y=&quot;1406.83&quot; style=&quot;font-family:&#x27;Helvetica&#x27;;font-size:99.99px;fill:#000000&quot; transform=&quot;rotate(-90 364.08,1406.83)&quot; text-anchor=&quot;middle&quot;&gt;.4&lt;/text&gt;\n",
       "\t&lt;line x1=&quot;454.16&quot; y1=&quot;1071.96&quot; x2=&quot;414.19&quot; y2=&quot;1071.96&quot; style=&quot;stroke:#000000;stroke-width:5.76&quot;/&gt;\n",
       "\t&lt;text x=&quot;364.08&quot; y=&quot;1071.96&quot; style=&quot;font-family:&#x27;Helvetica&#x27;;font-size:99.99px;fill:#000000&quot; transform=&quot;rotate(-90 364.08,1071.96)&quot; text-anchor=&quot;middle&quot;&gt;.45&lt;/text&gt;\n",
       "\t&lt;line x1=&quot;454.16&quot; y1=&quot;736.95&quot; x2=&quot;414.19&quot; y2=&quot;736.95&quot; style=&quot;stroke:#000000;stroke-width:5.76&quot;/&gt;\n",
       "\t&lt;text x=&quot;364.08&quot; y=&quot;736.95&quot; style=&quot;font-family:&#x27;Helvetica&#x27;;font-size:99.99px;fill:#000000&quot; transform=&quot;rotate(-90 364.08,736.95)&quot; text-anchor=&quot;middle&quot;&gt;.5&lt;/text&gt;\n",
       "\t&lt;line x1=&quot;454.16&quot; y1=&quot;402.08&quot; x2=&quot;414.19&quot; y2=&quot;402.08&quot; style=&quot;stroke:#000000;stroke-width:5.76&quot;/&gt;\n",
       "\t&lt;text x=&quot;364.08&quot; y=&quot;402.08&quot; style=&quot;font-family:&#x27;Helvetica&#x27;;font-size:99.99px;fill:#000000&quot; transform=&quot;rotate(-90 364.08,402.08)&quot; text-anchor=&quot;middle&quot;&gt;.55&lt;/text&gt;\n",
       "\t&lt;text x=&quot;254.07&quot; y=&quot;1285.06&quot; style=&quot;font-family:&#x27;Helvetica&#x27;;font-size:99.99px;fill:#000000&quot; transform=&quot;rotate(-90 254.07,1285.06)&quot; text-anchor=&quot;middle&quot;&gt;Factor 2&lt;/text&gt;\n",
       "\t&lt;line x1=&quot;454.16&quot; y1=&quot;2231.28&quot; x2=&quot;3795.66&quot; y2=&quot;2231.28&quot; style=&quot;stroke:#000000;stroke-width:5.76&quot;/&gt;\n",
       "\t&lt;line x1=&quot;525.57&quot; y1=&quot;2231.28&quot; x2=&quot;525.57&quot; y2=&quot;2271.38&quot; style=&quot;stroke:#000000;stroke-width:5.76&quot;/&gt;\n",
       "\t&lt;text x=&quot;525.57&quot; y=&quot;2361.24&quot; style=&quot;font-family:&#x27;Helvetica&#x27;;font-size:99.99px;fill:#000000&quot; text-anchor=&quot;middle&quot;&gt;.35&lt;/text&gt;\n",
       "\t&lt;line x1=&quot;1166.96&quot; y1=&quot;2231.28&quot; x2=&quot;1166.96&quot; y2=&quot;2271.38&quot; style=&quot;stroke:#000000;stroke-width:5.76&quot;/&gt;\n",
       "\t&lt;text x=&quot;1166.96&quot; y=&quot;2361.24&quot; style=&quot;font-family:&#x27;Helvetica&#x27;;font-size:99.99px;fill:#000000&quot; text-anchor=&quot;middle&quot;&gt;.4&lt;/text&gt;\n",
       "\t&lt;line x1=&quot;1808.23&quot; y1=&quot;2231.28&quot; x2=&quot;1808.23&quot; y2=&quot;2271.38&quot; style=&quot;stroke:#000000;stroke-width:5.76&quot;/&gt;\n",
       "\t&lt;text x=&quot;1808.23&quot; y=&quot;2361.24&quot; style=&quot;font-family:&#x27;Helvetica&#x27;;font-size:99.99px;fill:#000000&quot; text-anchor=&quot;middle&quot;&gt;.45&lt;/text&gt;\n",
       "\t&lt;line x1=&quot;2449.63&quot; y1=&quot;2231.28&quot; x2=&quot;2449.63&quot; y2=&quot;2271.38&quot; style=&quot;stroke:#000000;stroke-width:5.76&quot;/&gt;\n",
       "\t&lt;text x=&quot;2449.63&quot; y=&quot;2361.24&quot; style=&quot;font-family:&#x27;Helvetica&#x27;;font-size:99.99px;fill:#000000&quot; text-anchor=&quot;middle&quot;&gt;.5&lt;/text&gt;\n",
       "\t&lt;line x1=&quot;3091.03&quot; y1=&quot;2231.28&quot; x2=&quot;3091.03&quot; y2=&quot;2271.38&quot; style=&quot;stroke:#000000;stroke-width:5.76&quot;/&gt;\n",
       "\t&lt;text x=&quot;3091.03&quot; y=&quot;2361.24&quot; style=&quot;font-family:&#x27;Helvetica&#x27;;font-size:99.99px;fill:#000000&quot; text-anchor=&quot;middle&quot;&gt;.55&lt;/text&gt;\n",
       "\t&lt;line x1=&quot;3732.42&quot; y1=&quot;2231.28&quot; x2=&quot;3732.42&quot; y2=&quot;2271.38&quot; style=&quot;stroke:#000000;stroke-width:5.76&quot;/&gt;\n",
       "\t&lt;text x=&quot;3732.42&quot; y=&quot;2361.24&quot; style=&quot;font-family:&#x27;Helvetica&#x27;;font-size:99.99px;fill:#000000&quot; text-anchor=&quot;middle&quot;&gt;.6&lt;/text&gt;\n",
       "\t&lt;text x=&quot;2124.91&quot; y=&quot;2471.25&quot; style=&quot;font-family:&#x27;Helvetica&#x27;;font-size:99.99px;fill:#000000&quot; text-anchor=&quot;middle&quot;&gt;Factor 1&lt;/text&gt;\n",
       "\t&lt;text x=&quot;80.69&quot; y=&quot;2695.32&quot; style=&quot;font-family:&#x27;Helvetica&#x27;;font-size:79.94px;fill:#000000&quot;&gt;Rotation: orthogonal varimax&lt;/text&gt;\n",
       "\t&lt;text x=&quot;80.69&quot; y=&quot;2775.27&quot; style=&quot;font-family:&#x27;Helvetica&#x27;;font-size:79.94px;fill:#000000&quot;&gt;Method: principal factors&lt;/text&gt;\n",
       "\t&lt;text x=&quot;1980.00&quot; y=&quot;178.60&quot; style=&quot;font-family:&#x27;Helvetica&#x27;;font-size:139.96px;fill:#1E2D53&quot; text-anchor=&quot;middle&quot;&gt;Factor loadings&lt;/text&gt;\n",
       "&lt;/svg&gt;\n",
       "</body></html>\"></iframe>\n"
      ],
      "text/plain": [
       "This front-end cannot display the desired image type."
      ]
     },
     "metadata": {
      "image/svg+xml": {
       "height": 436,
       "width": 600
      },
      "text/html": {
       "height": 436,
       "width": 600
      }
     },
     "output_type": "display_data"
    },
    {
     "name": "stdout",
     "output_type": "stream",
     "text": [
      "\n",
      "\n",
      "\n"
     ]
    }
   ],
   "source": [
    "** B. \n",
    "\n",
    "quietly factor B3 B16A B16B B16C\n",
    "rotate, varimax\n",
    "loadingplot"
   ]
  },
  {
   "cell_type": "markdown",
   "metadata": {},
   "source": [
    "### 4. Calculate the scales and test them in a regression model [1 pt]\n",
    "\n",
    "    A. Generate new scale variables that average all the items in eacj scale.\n",
    "    B. Standardize each scale to be 0-1\n",
    "    C. Estimate separate models that regress your dependent variables on your independent variables 1) using the scale variables, and 2) using the separate component items of the scale variables\n",
    "    D. Output your models (at least 2 models) using esttab so we can easily compare results"
   ]
  },
  {
   "cell_type": "code",
   "execution_count": 5,
   "metadata": {},
   "outputs": [
    {
     "name": "stdout",
     "output_type": "stream",
     "text": [
      "\n",
      "(504 missing values generated)\n",
      "\n",
      "(6 missing values generated)\n"
     ]
    }
   ],
   "source": [
    "** A. \n",
    "generate physical=(B3+B16A)/2 \n",
    "generate distant=(B16B+B16C)/2  "
   ]
  },
  {
   "cell_type": "code",
   "execution_count": 6,
   "metadata": {},
   "outputs": [
    {
     "name": "stdout",
     "output_type": "stream",
     "text": [
      "(191 missing values generated)\n"
     ]
    }
   ],
   "source": [
    "** B. \n",
    "\n",
    "generate health=(C8+C8B)/2"
   ]
  },
  {
   "cell_type": "code",
   "execution_count": 7,
   "metadata": {
    "scrolled": true
   },
   "outputs": [],
   "source": [
    "** C. \n",
    "\n",
    "quietly eststo: regress health physical, ro\n",
    "quietly eststo: regress health distant, ro "
   ]
  },
  {
   "cell_type": "code",
   "execution_count": 9,
   "metadata": {
    "scrolled": true
   },
   "outputs": [
    {
     "data": {
      "text/html": [
       "\n",
       "<table border=\"0\" width=\"*\">\n",
       "<tr><td colspan=5><hr></td></tr>\n",
       "<tr><td>            </td><td>         (1)</td><td>   </td><td>         (2)</td><td>   </td></tr>\n",
       "<tr><td>            </td><td>      health</td><td>   </td><td>        est2</td><td>   </td></tr>\n",
       "<tr><td colspan=5><hr></td></tr>\n",
       "<tr><td>physical    </td><td>        0.03</td><td>*  </td><td>            </td><td>   </td></tr>\n",
       "<tr><td>            </td><td>      (0.01)</td><td>   </td><td>            </td><td>   </td></tr>\n",
       "<tr><td>distant     </td><td>            </td><td>   </td><td>       -0.02</td><td>*  </td></tr>\n",
       "<tr><td>            </td><td>            </td><td>   </td><td>      (0.01)</td><td>   </td></tr>\n",
       "<tr><td colspan=5><hr></td></tr>\n",
       "<tr><td><i>N</i>    </td><td>        5404</td><td>   </td><td>        5885</td><td>   </td></tr>\n",
       "<tr><td colspan=5><hr></td></tr>\n",
       "<tr><td colspan=5>\n",
       "^ p<.1, * p<.05, ** p<.01, *** p<.001\n",
       "</td></tr>\n",
       "</table>\n",
       "\n"
      ],
      "text/plain": [
       "This front-end or document format cannot display HTML"
      ]
     },
     "metadata": {},
     "output_type": "display_data"
    }
   ],
   "source": [
    "%html\n",
    "\n",
    "esttab ///\n",
    ", cells(b(star fmt(2)) se(fmt(2) par)) stardetach  ///\n",
    "legend starlevels(^ .1 * .05 ** .01 *** .001) html ///\n",
    "mlabels(\"health\") ///\n",
    "collabels(none) keep(physical distant)"
   ]
  },
  {
   "cell_type": "code",
   "execution_count": 9,
   "metadata": {},
   "outputs": [],
   "source": [
    "quietly eststo: regress C8 physical distant, ro\n",
    "quietly eststo: regress C8B distant physical, ro "
   ]
  },
  {
   "cell_type": "code",
   "execution_count": 10,
   "metadata": {},
   "outputs": [
    {
     "data": {
      "text/html": [
       "\n",
       "<table border=\"0\" width=\"*\">\n",
       "<tr><td colspan=9><hr></td></tr>\n",
       "<tr><td>            </td><td>         (1)</td><td>   </td><td>         (2)</td><td>   </td><td>         (3)</td><td>   </td><td>         (4)</td><td>   </td></tr>\n",
       "<tr><td>            </td><td>          C8</td><td>   </td><td>         C8B</td><td>   </td><td>        est3</td><td>   </td><td>        est4</td><td>   </td></tr>\n",
       "<tr><td colspan=9><hr></td></tr>\n",
       "<tr><td>physical    </td><td>        0.03</td><td>*  </td><td>            </td><td>   </td><td>        0.04</td><td>** </td><td>        0.05</td><td>***</td></tr>\n",
       "<tr><td>            </td><td>      (0.01)</td><td>   </td><td>            </td><td>   </td><td>      (0.01)</td><td>   </td><td>      (0.01)</td><td>   </td></tr>\n",
       "<tr><td>distant     </td><td>            </td><td>   </td><td>       -0.02</td><td>*  </td><td>       -0.04</td><td>***</td><td>       -0.02</td><td>   </td></tr>\n",
       "<tr><td>            </td><td>            </td><td>   </td><td>      (0.01)</td><td>   </td><td>      (0.01)</td><td>   </td><td>      (0.01)</td><td>   </td></tr>\n",
       "<tr><td colspan=9><hr></td></tr>\n",
       "<tr><td><i>N</i>    </td><td>        5404</td><td>   </td><td>        5885</td><td>   </td><td>        5403</td><td>   </td><td>        5403</td><td>   </td></tr>\n",
       "<tr><td colspan=9><hr></td></tr>\n",
       "<tr><td colspan=9>\n",
       "^ p<.1, * p<.05, ** p<.01, *** p<.001\n",
       "</td></tr>\n",
       "</table>\n",
       "\n"
      ],
      "text/plain": [
       "This front-end or document format cannot display HTML"
      ]
     },
     "metadata": {},
     "output_type": "display_data"
    }
   ],
   "source": [
    "%html\n",
    "\n",
    "esttab ///\n",
    ", cells(b(star fmt(2)) se(fmt(2) par)) stardetach  ///\n",
    "legend starlevels(^ .1 * .05 ** .01 *** .001) html ///\n",
    "mlabels(\"C8\" \"C8B\") ///\n",
    "collabels(none) keep(physical distant)"
   ]
  },
  {
   "cell_type": "markdown",
   "metadata": {},
   "source": [
    "### 5. Interpret your regression estimates [1 pt]\n",
    "\n",
    "    A. Which of your hypotheses were supported or rejected?\n",
    "    B. Were the coefficients using your multi-item scales in the same direction as the coefficients for their component variables?\n",
    "    C. Were the coefficients larger or more statistically significant when you used multi-item scales?"
   ]
  },
  {
   "cell_type": "code",
   "execution_count": null,
   "metadata": {},
   "outputs": [],
   "source": [
    "A. \n",
    "All of my hypothesis were rejected. \n",
    "\n",
    "B. \n",
    "The coefficients seem to be going in different directions. \n",
    "\n",
    "C. \n",
    "The coefficients became less statistically significant when I used multi-item scales. "
   ]
  }
 ],
 "metadata": {
  "kernelspec": {
   "display_name": "Stata",
   "language": "stata",
   "name": "stata"
  },
  "language_info": {
   "codemirror_mode": "stata",
   "file_extension": ".do",
   "mimetype": "text/x-stata",
   "name": "stata",
   "version": "15.1"
  }
 },
 "nbformat": 4,
 "nbformat_minor": 4
}
